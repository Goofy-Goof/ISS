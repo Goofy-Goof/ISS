{
 "cells": [
  {
   "cell_type": "code",
   "execution_count": 3,
   "outputs": [
    {
     "data": {
      "text/plain": "True"
     },
     "execution_count": 3,
     "metadata": {},
     "output_type": "execute_result"
    }
   ],
   "source": [
    "from dotenv import load_dotenv\n",
    "\n",
    "load_dotenv()\n",
    "# OR, the same with increased verbosity\n",
    "load_dotenv(verbose=True)\n",
    "# OR, explicitly providing path to '.env'\n",
    "from pathlib import Path  # Python 3.6+ only\n",
    "\n",
    "env_path = Path('../') / '.env'\n",
    "load_dotenv(dotenv_path=env_path)"
   ],
   "metadata": {
    "collapsed": false,
    "pycharm": {
     "name": "#%%\n"
    }
   }
  },
  {
   "cell_type": "code",
   "execution_count": 52,
   "outputs": [],
   "source": [
    "%matplotlib inline\n",
    "from pymongo import MongoClient\n",
    "import numpy as np\n",
    "import pandas as pd\n",
    "import os\n",
    "import matplotlib.pyplot as plt\n",
    "\n",
    "mongo_cluster = MongoClient(os.environ['MONGO_URI']).iss"
   ],
   "metadata": {
    "collapsed": false,
    "pycharm": {
     "name": "#%%\n"
    }
   }
  },
  {
   "cell_type": "code",
   "execution_count": 29,
   "outputs": [
    {
     "data": {
      "text/plain": "   epochs  acc mean %\n0      20   22.031250\n1      30   37.421875\n2      40   41.015625\n3      50   44.531250\n4     100   41.406250",
      "text/html": "<div>\n<style scoped>\n    .dataframe tbody tr th:only-of-type {\n        vertical-align: middle;\n    }\n\n    .dataframe tbody tr th {\n        vertical-align: top;\n    }\n\n    .dataframe thead th {\n        text-align: right;\n    }\n</style>\n<table border=\"1\" class=\"dataframe\">\n  <thead>\n    <tr style=\"text-align: right;\">\n      <th></th>\n      <th>epochs</th>\n      <th>acc mean %</th>\n    </tr>\n  </thead>\n  <tbody>\n    <tr>\n      <th>0</th>\n      <td>20</td>\n      <td>22.031250</td>\n    </tr>\n    <tr>\n      <th>1</th>\n      <td>30</td>\n      <td>37.421875</td>\n    </tr>\n    <tr>\n      <th>2</th>\n      <td>40</td>\n      <td>41.015625</td>\n    </tr>\n    <tr>\n      <th>3</th>\n      <td>50</td>\n      <td>44.531250</td>\n    </tr>\n    <tr>\n      <th>4</th>\n      <td>100</td>\n      <td>41.406250</td>\n    </tr>\n  </tbody>\n</table>\n</div>"
     },
     "execution_count": 29,
     "metadata": {},
     "output_type": "execute_result"
    }
   ],
   "source": [
    "db = mongo_cluster.down_epochs_res\n",
    "EPOCHS = [20, 30, 40, 50, 100]\n",
    "\n",
    "acc = [\n",
    "    [j['predicted'] for j in db.find({'downstream_epochs': i}, {'predicted': 1})] for i in EPOCHS\n",
    "]\n",
    "\n",
    "acc = np.array(acc)\n",
    "acc_mean = np.mean(acc, axis=1)\n",
    "\n",
    "df = pd.DataFrame()\n",
    "df['epochs'] = EPOCHS\n",
    "df['acc mean %'] = acc_mean / 256 * 100  #total test images\n",
    "df"
   ],
   "metadata": {
    "collapsed": false,
    "pycharm": {
     "name": "#%%\n"
    }
   }
  },
  {
   "cell_type": "code",
   "execution_count": 30,
   "outputs": [
    {
     "name": "stdout",
     "output_type": "stream",
     "text": [
      "EffNet in transfer learning -> accuracy = 65.156%, miss rate = 94.245%, epsilon mean = 0.024\n"
     ]
    }
   ],
   "source": [
    "res_db = mongo_cluster.results2\n",
    "\n",
    "transfer_res = [i for i in res_db.find({'model_type': 'eff_net_frozen'})]\n",
    "\n",
    "transfer_predicted = np.array(\n",
    "    [i['predicted'] for i in transfer_res]\n",
    ").mean()\n",
    "transfer_miss = np.array(\n",
    "    [i['miss_classified'] for i in transfer_res]\n",
    ").mean()\n",
    "transfer_epsilon = np.array(\n",
    "    [i['epsilon_mean'] for i in transfer_res]\n",
    ").mean()\n",
    "transfer_total_images = np.array(\n",
    "    [i['total_test_images'] for i in transfer_res]\n",
    ").mean()\n",
    "\n",
    "transfer_accuracy = np.round(transfer_predicted / transfer_total_images * 100, 3)\n",
    "transfer_miss_rate = np.round(transfer_miss / transfer_predicted * 100, 3)\n",
    "transfer_epsilon = np.round(transfer_epsilon, 3)\n",
    "print(\n",
    "    f'EffNet in transfer learning -> accuracy = {transfer_accuracy}%, miss rate = {transfer_miss_rate}%, epsilon mean = {transfer_epsilon}')"
   ],
   "metadata": {
    "collapsed": false,
    "pycharm": {
     "name": "#%%\n"
    }
   }
  },
  {
   "cell_type": "code",
   "execution_count": 19,
   "outputs": [
    {
     "name": "stdout",
     "output_type": "stream",
     "text": [
      "EffNet with no pretext task -> accuracy = 39.922%, miss rate = 99.413%, epsilon mean = 0.011\n"
     ]
    }
   ],
   "source": [
    "no_pr_res = [i for i in res_db.find({'model_type': 'efficientnetb0', 'pretext_task': {'$exists': False}})]\n",
    "\n",
    "no_pr_predicted = np.array(\n",
    "    [i['predicted'] for i in no_pr_res]\n",
    ").mean()\n",
    "no_pr_miss = np.array(\n",
    "    [i['miss_classified'] for i in no_pr_res]\n",
    ").mean()\n",
    "no_pr_epsilon = np.array(\n",
    "    [i['epsilon_mean'] for i in no_pr_res]\n",
    ").mean()\n",
    "no_pr_total_images = np.array(\n",
    "    [i['total_test_images'] for i in no_pr_res]\n",
    ").mean()\n",
    "\n",
    "no_pr_accuracy = np.round(no_pr_predicted / no_pr_total_images * 100, 3)\n",
    "no_pr_miss_rate = np.round(no_pr_miss / no_pr_predicted * 100, 3)\n",
    "no_pr_epsilon = np.round(no_pr_epsilon, 3)\n",
    "print(\n",
    "    f'EffNet with no pretext task -> accuracy = {no_pr_accuracy}%, miss rate = {no_pr_miss_rate}%, epsilon mean = {no_pr_epsilon}')"
   ],
   "metadata": {
    "collapsed": false,
    "pycharm": {
     "name": "#%%\n"
    }
   }
  },
  {
   "cell_type": "code",
   "execution_count": 31,
   "outputs": [
    {
     "data": {
      "text/plain": "   pretext epochs  accuracy %  miss classification rate  epsilon mean\n0              25      43.984                    95.915         0.012\n1              50      43.438                    97.482         0.011\n2              75      43.281                    93.141         0.013\n3             100      42.188                    95.000         0.012",
      "text/html": "<div>\n<style scoped>\n    .dataframe tbody tr th:only-of-type {\n        vertical-align: middle;\n    }\n\n    .dataframe tbody tr th {\n        vertical-align: top;\n    }\n\n    .dataframe thead th {\n        text-align: right;\n    }\n</style>\n<table border=\"1\" class=\"dataframe\">\n  <thead>\n    <tr style=\"text-align: right;\">\n      <th></th>\n      <th>pretext epochs</th>\n      <th>accuracy %</th>\n      <th>miss classification rate</th>\n      <th>epsilon mean</th>\n    </tr>\n  </thead>\n  <tbody>\n    <tr>\n      <th>0</th>\n      <td>25</td>\n      <td>43.984</td>\n      <td>95.915</td>\n      <td>0.012</td>\n    </tr>\n    <tr>\n      <th>1</th>\n      <td>50</td>\n      <td>43.438</td>\n      <td>97.482</td>\n      <td>0.011</td>\n    </tr>\n    <tr>\n      <th>2</th>\n      <td>75</td>\n      <td>43.281</td>\n      <td>93.141</td>\n      <td>0.013</td>\n    </tr>\n    <tr>\n      <th>3</th>\n      <td>100</td>\n      <td>42.188</td>\n      <td>95.000</td>\n      <td>0.012</td>\n    </tr>\n  </tbody>\n</table>\n</div>"
     },
     "execution_count": 31,
     "metadata": {},
     "output_type": "execute_result"
    }
   ],
   "source": [
    "PR_EPOCHS = [25, 50, 75, 100]\n",
    "\n",
    "jigsaw_predicted = []\n",
    "jigsaw_miss = []\n",
    "jigsaw_epsilon = []\n",
    "jigsaw_total_images = []\n",
    "\n",
    "for pe in PR_EPOCHS:\n",
    "    jigsaw_res = [i for i in res_db.find({\n",
    "        'model_type': 'efficientnetb0',\n",
    "        'pretext_task': 'jigsaw',\n",
    "        'pretext_epochs': pe\n",
    "    })]\n",
    "\n",
    "    jigsaw_predicted.append(np.array(\n",
    "        [i['predicted'] for i in jigsaw_res]\n",
    "    ).mean())\n",
    "    jigsaw_miss.append(np.array(\n",
    "        [i['miss_classified'] for i in jigsaw_res]\n",
    "    ).mean())\n",
    "    jigsaw_epsilon.append(np.array(\n",
    "        [i['epsilon_mean'] for i in jigsaw_res]\n",
    "    ).mean())\n",
    "    jigsaw_total_images.append(np.array(\n",
    "        [i['total_test_images'] for i in jigsaw_res]\n",
    "    ).mean())\n",
    "\n",
    "jigsaw_accuracy = np.round(np.array(jigsaw_predicted) / np.array(jigsaw_total_images) * 100, 3)\n",
    "jigsaw_miss_rate = np.round(np.array(jigsaw_miss) / np.array(jigsaw_predicted) * 100, 3)\n",
    "jigsaw_epsilon = np.round(jigsaw_epsilon, 3)\n",
    "\n",
    "jigsaw_df = pd.DataFrame()\n",
    "jigsaw_df['pretext epochs'] = PR_EPOCHS\n",
    "jigsaw_df['accuracy %'] = jigsaw_accuracy\n",
    "jigsaw_df['miss classification rate'] = jigsaw_miss_rate\n",
    "jigsaw_df['epsilon mean'] = jigsaw_epsilon\n",
    "jigsaw_df"
   ],
   "metadata": {
    "collapsed": false,
    "pycharm": {
     "name": "#%%\n"
    }
   }
  },
  {
   "cell_type": "code",
   "execution_count": 69,
   "outputs": [
    {
     "data": {
      "text/plain": "   pretext epochs  accuracy %  miss classification rate  epsilon mean\n0              25      44.219                    96.643         0.012\n1              50      44.141                    97.876         0.012\n2              75      46.953                    95.674         0.012\n3             100      44.531                    97.544         0.012",
      "text/html": "<div>\n<style scoped>\n    .dataframe tbody tr th:only-of-type {\n        vertical-align: middle;\n    }\n\n    .dataframe tbody tr th {\n        vertical-align: top;\n    }\n\n    .dataframe thead th {\n        text-align: right;\n    }\n</style>\n<table border=\"1\" class=\"dataframe\">\n  <thead>\n    <tr style=\"text-align: right;\">\n      <th></th>\n      <th>pretext epochs</th>\n      <th>accuracy %</th>\n      <th>miss classification rate</th>\n      <th>epsilon mean</th>\n    </tr>\n  </thead>\n  <tbody>\n    <tr>\n      <th>0</th>\n      <td>25</td>\n      <td>44.219</td>\n      <td>96.643</td>\n      <td>0.012</td>\n    </tr>\n    <tr>\n      <th>1</th>\n      <td>50</td>\n      <td>44.141</td>\n      <td>97.876</td>\n      <td>0.012</td>\n    </tr>\n    <tr>\n      <th>2</th>\n      <td>75</td>\n      <td>46.953</td>\n      <td>95.674</td>\n      <td>0.012</td>\n    </tr>\n    <tr>\n      <th>3</th>\n      <td>100</td>\n      <td>44.531</td>\n      <td>97.544</td>\n      <td>0.012</td>\n    </tr>\n  </tbody>\n</table>\n</div>"
     },
     "execution_count": 69,
     "metadata": {},
     "output_type": "execute_result"
    }
   ],
   "source": [
    "rotation_predicted = []\n",
    "rotation_miss = []\n",
    "rotation_epsilon = []\n",
    "rotation_total_images = []\n",
    "\n",
    "for pe in PR_EPOCHS:\n",
    "    rotation_res = [i for i in res_db.find({\n",
    "        'model_type': 'efficientnetb0',\n",
    "        'pretext_task': 'rotation',\n",
    "        'pretext_epochs': pe\n",
    "    })]\n",
    "\n",
    "    rotation_predicted.append(np.array(\n",
    "        [i['predicted'] for i in rotation_res]\n",
    "    ).mean())\n",
    "    rotation_miss.append(np.array(\n",
    "        [i['miss_classified'] for i in rotation_res]\n",
    "    ).mean())\n",
    "    rotation_epsilon.append(np.array(\n",
    "        [i['epsilon_mean'] for i in rotation_res]\n",
    "    ).mean())\n",
    "    rotation_total_images.append(np.array(\n",
    "        [i['total_test_images'] for i in rotation_res]\n",
    "    ).mean())\n",
    "\n",
    "rotation_accuracy = np.round(np.array(rotation_predicted) / np.array(rotation_total_images) * 100, 3)\n",
    "rotation_miss_rate = np.round(np.array(rotation_miss) / np.array(rotation_predicted) * 100, 3)\n",
    "rotation_epsilon = np.round(rotation_epsilon, 3)\n",
    "\n",
    "rotation_df = pd.DataFrame()\n",
    "rotation_df['pretext epochs'] = PR_EPOCHS\n",
    "rotation_df['accuracy %'] = rotation_accuracy\n",
    "rotation_df['miss classification rate'] = rotation_miss_rate\n",
    "rotation_df['epsilon mean'] = rotation_epsilon\n",
    "rotation_df"
   ],
   "metadata": {
    "collapsed": false,
    "pycharm": {
     "name": "#%%\n"
    }
   }
  },
  {
   "cell_type": "code",
   "execution_count": null,
   "outputs": [],
   "source": [
    "def autolabel(rects):\n",
    "    \"\"\"Attach a text label above each bar in *rects*, displaying its height.\"\"\"\n",
    "    for rect in rects:\n",
    "        height = rect.get_height()\n",
    "        ax.annotate('{}'.format(height),\n",
    "                    xy=(rect.get_x() + rect.get_width() / 2, height),\n",
    "                    xytext=(0, 3),  # 3 points vertical offset\n",
    "                    textcoords=\"offset points\",\n",
    "                    ha='center', va='bottom')"
   ],
   "metadata": {
    "collapsed": false,
    "pycharm": {
     "name": "#%%\n"
    }
   }
  },
  {
   "cell_type": "code",
   "execution_count": 68,
   "outputs": [
    {
     "data": {
      "text/plain": "<Figure size 432x288 with 1 Axes>",
      "image/png": "[encoded data removed]"
     },
     "metadata": {
      "needs_background": "light"
     },
     "output_type": "display_data"
    }
   ],
   "source": [
    "x = np.arange(len(PR_EPOCHS))  # the label locations\n",
    "width = 0.35  # the width of the bars\n",
    "\n",
    "fig, ax = plt.subplots()\n",
    "rects1 = ax.bar(x - width/2, jigsaw_accuracy, width)\n",
    "rects2 = ax.bar(x + width/2, rotation_accuracy, width)\n",
    "plt.axhline(y=transfer_accuracy, color='r', linestyle='-', linewidth=3)\n",
    "plt.axhline(y=no_pr_accuracy, color='g', linestyle='-', linewidth=3)\n",
    "\n",
    "\n",
    "# Add some text for labels, title and custom x-axis tick labels, etc.\n",
    "ax.set_ylabel('Accuracy %')\n",
    "ax.set_xlabel('# pretext epochs')\n",
    "ax.set_xticks(x)\n",
    "ax.set_xticklabels(PR_EPOCHS)\n",
    "ax.legend(['transfer learning', 'no pretext', 'jigsaw', 'rotation'])\n",
    "#autolabel(rects1)\n",
    "#autolabel(rects2)\n",
    "fig.tight_layout()"
   ],
   "metadata": {
    "collapsed": false,
    "pycharm": {
     "name": "#%%\n"
    }
   }
  },
  {
   "cell_type": "code",
   "execution_count": 70,
   "outputs": [
    {
     "data": {
      "text/plain": "<Figure size 432x288 with 1 Axes>",
      "image/png": "[encoded data removed]"
     },
     "metadata": {
      "needs_background": "light"
     },
     "output_type": "display_data"
    }
   ],
   "source": [
    "fig1, ax1 = plt.subplots()\n",
    "rects3 = ax1.bar(x - width/2, jigsaw_epsilon, width)\n",
    "rects4 = ax1.bar(x + width/2, rotation_epsilon, width)\n",
    "plt.axhline(y=transfer_epsilon, color='r', linestyle='-', linewidth=3)\n",
    "plt.axhline(y=no_pr_epsilon, color='g', linestyle='-', linewidth=3)\n",
    "\n",
    "\n",
    "# Add some text for labels, title and custom x-axis tick labels, etc.\n",
    "ax1.set_ylabel('$\\overline{\\epsilon}$')\n",
    "ax1.set_xlabel('# pretext epochs')\n",
    "ax1.set_xticks(x)\n",
    "ax1.set_xticklabels(PR_EPOCHS)\n",
    "ax1.legend(['transfer learning', 'no pretext', 'jigsaw', 'rotation'])\n",
    "#autolabel(rects1)\n",
    "#autolabel(rects2)\n",
    "fig1.tight_layout()"
   ],
   "metadata": {
    "collapsed": false,
    "pycharm": {
     "name": "#%%\n"
    }
   }
  },
  {
   "cell_type": "code",
   "execution_count": 71,
   "outputs": [
    {
     "data": {
      "text/plain": "  pre text task / pre training  accuracy  epsilon\n0      ImageNet classification        65    0.024\n1                         None        39    0.011\n2                     rotation        47    0.012\n3                       jigsaw        43    0.013",
      "text/html": "<div>\n<style scoped>\n    .dataframe tbody tr th:only-of-type {\n        vertical-align: middle;\n    }\n\n    .dataframe tbody tr th {\n        vertical-align: top;\n    }\n\n    .dataframe thead th {\n        text-align: right;\n    }\n</style>\n<table border=\"1\" class=\"dataframe\">\n  <thead>\n    <tr style=\"text-align: right;\">\n      <th></th>\n      <th>pre text task / pre training</th>\n      <th>accuracy</th>\n      <th>epsilon</th>\n    </tr>\n  </thead>\n  <tbody>\n    <tr>\n      <th>0</th>\n      <td>ImageNet classification</td>\n      <td>65</td>\n      <td>0.024</td>\n    </tr>\n    <tr>\n      <th>1</th>\n      <td>None</td>\n      <td>39</td>\n      <td>0.011</td>\n    </tr>\n    <tr>\n      <th>2</th>\n      <td>rotation</td>\n      <td>47</td>\n      <td>0.012</td>\n    </tr>\n    <tr>\n      <th>3</th>\n      <td>jigsaw</td>\n      <td>43</td>\n      <td>0.013</td>\n    </tr>\n  </tbody>\n</table>\n</div>"
     },
     "execution_count": 71,
     "metadata": {},
     "output_type": "execute_result"
    }
   ],
   "source": [
    "best_res_df = pd.DataFrame()\n",
    "best_res_df['pre text task / pre training'] = ['ImageNet classification', 'None', 'rotation', 'jigsaw']\n",
    "best_res_df['accuracy'] = [65, 39, 47, 43]\n",
    "best_res_df['epsilon'] = [0.024, 0.011, 0.012, 0.013]\n",
    "best_res_df"
   ],
   "metadata": {
    "collapsed": false,
    "pycharm": {
     "name": "#%%\n"
    }
   }
  }
 ],
 "metadata": {
  "kernelspec": {
   "display_name": "Python 3",
   "language": "python",
   "name": "python3"
  },
  "language_info": {
   "codemirror_mode": {
    "name": "ipython",
    "version": 2
   },
   "file_extension": ".py",
   "mimetype": "text/x-python",
   "name": "python",
   "nbconvert_exporter": "python",
   "pygments_lexer": "ipython2",
   "version": "2.7.6"
  }
 },
 "nbformat": 4,
 "nbformat_minor": 0
}