{
 "cells": [
  {
   "cell_type": "code",
   "execution_count": 3,
   "outputs": [
    {
     "data": {
      "text/plain": "True"
     },
     "execution_count": 3,
     "metadata": {},
     "output_type": "execute_result"
    }
   ],
   "source": [
    "from dotenv import load_dotenv\n",
    "\n",
    "load_dotenv()\n",
    "# OR, the same with increased verbosity\n",
    "load_dotenv(verbose=True)\n",
    "# OR, explicitly providing path to '.env'\n",
    "from pathlib import Path  # Python 3.6+ only\n",
    "\n",
    "env_path = Path('../') / '.env'\n",
    "load_dotenv(dotenv_path=env_path)"
   ],
   "metadata": {
    "collapsed": false,
    "pycharm": {
     "name": "#%%\n"
    }
   }
  },
  {
   "cell_type": "code",
   "execution_count": 52,
   "outputs": [],
   "source": [
    "%matplotlib inline\n",
    "from pymongo import MongoClient\n",
    "import numpy as np\n",
    "import pandas as pd\n",
    "import os\n",
    "import matplotlib.pyplot as plt\n",
    "\n",
    "mongo_cluster = MongoClient(os.environ['MONGO_URI']).iss"
   ],
   "metadata": {
    "collapsed": false,
    "pycharm": {
     "name": "#%%\n"
    }
   }
  },
  {
   "cell_type": "code",
   "execution_count": 29,
   "outputs": [
    {
     "data": {
      "text/plain": "   epochs  acc mean %\n0      20   22.031250\n1      30   37.421875\n2      40   41.015625\n3      50   44.531250\n4     100   41.406250",
      "text/html": "<div>\n<style scoped>\n    .dataframe tbody tr th:only-of-type {\n        vertical-align: middle;\n    }\n\n    .dataframe tbody tr th {\n        vertical-align: top;\n    }\n\n    .dataframe thead th {\n        text-align: right;\n    }\n</style>\n<table border=\"1\" class=\"dataframe\">\n  <thead>\n    <tr style=\"text-align: right;\">\n      <th></th>\n      <th>epochs</th>\n      <th>acc mean %</th>\n    </tr>\n  </thead>\n  <tbody>\n    <tr>\n      <th>0</th>\n      <td>20</td>\n      <td>22.031250</td>\n    </tr>\n    <tr>\n      <th>1</th>\n      <td>30</td>\n      <td>37.421875</td>\n    </tr>\n    <tr>\n      <th>2</th>\n      <td>40</td>\n      <td>41.015625</td>\n    </tr>\n    <tr>\n      <th>3</th>\n      <td>50</td>\n      <td>44.531250</td>\n    </tr>\n    <tr>\n      <th>4</th>\n      <td>100</td>\n      <td>41.406250</td>\n    </tr>\n  </tbody>\n</table>\n</div>"
     },
     "execution_count": 29,
     "metadata": {},
     "output_type": "execute_result"
    }
   ],
   "source": [
    "db = mongo_cluster.down_epochs_res\n",
    "EPOCHS = [20, 30, 40, 50, 100]\n",
    "\n",
    "acc = [\n",
    "    [j['predicted'] for j in db.find({'downstream_epochs': i}, {'predicted': 1})] for i in EPOCHS\n",
    "]\n",
    "\n",
    "acc = np.array(acc)\n",
    "acc_mean = np.mean(acc, axis=1)\n",
    "\n",
    "df = pd.DataFrame()\n",
    "df['epochs'] = EPOCHS\n",
    "df['acc mean %'] = acc_mean / 256 * 100  #total test images\n",
    "df"
   ],
   "metadata": {
    "collapsed": false,
    "pycharm": {
     "name": "#%%\n"
    }
   }
  },
  {
   "cell_type": "code",
   "execution_count": 115,
   "outputs": [
    {
     "name": "stdout",
     "output_type": "stream",
     "text": [
      "EffNet in transfer learning -> accuracy = 65.156%, miss rate = 94.245%, epsilon mean = 0.024\n"
     ]
    }
   ],
   "source": [
    "res_db = mongo_cluster.results2\n",
    "\n",
    "transfer_res = [i for i in res_db.find({'model_type': 'eff_net_frozen'})]\n",
    "\n",
    "transfer_predicted = np.array(\n",
    "    [i['predicted'] for i in transfer_res]\n",
    ").mean()\n",
    "transfer_miss = np.array(\n",
    "    [i['miss_classified'] for i in transfer_res]\n",
    ").mean()\n",
    "transfer_epsilon = np.array(\n",
    "    [i['epsilon_mean'] for i in transfer_res]\n",
    ").mean()\n",
    "transfer_total_images = np.array(\n",
    "    [i['total_test_images'] for i in transfer_res]\n",
    ").mean()\n",
    "\n",
    "transfer_accuracy = np.round(transfer_predicted / transfer_total_images * 100, 3)\n",
    "transfer_miss_rate = np.round(transfer_miss / transfer_predicted * 100, 3)\n",
    "transfer_epsilon = np.round(transfer_epsilon, 3)\n",
    "print(\n",
    "    f'EffNet in transfer learning -> accuracy = {transfer_accuracy}%, '\n",
    "    f'miss rate = {transfer_miss_rate}%, epsilon mean = {transfer_epsilon}')"
   ],
   "metadata": {
    "collapsed": false,
    "pycharm": {
     "name": "#%%\n"
    }
   }
  },
  {
   "cell_type": "code",
   "execution_count": 114,
   "outputs": [
    {
     "name": "stdout",
     "output_type": "stream",
     "text": [
      "EffNet with no pretext task -> accuracy = 39.922%, miss rate = 99.413%, epsilon mean = 0.011\n"
     ]
    }
   ],
   "source": [
    "no_pr_res = [i for i in res_db.find({'model_type': 'efficientnetb0', 'pretext_task': {'$exists': False}})]\n",
    "\n",
    "no_pr_predicted = np.array(\n",
    "    [i['predicted'] for i in no_pr_res]\n",
    ").mean()\n",
    "no_pr_miss = np.array(\n",
    "    [i['miss_classified'] for i in no_pr_res]\n",
    ").mean()\n",
    "no_pr_epsilon = np.array(\n",
    "    [i['epsilon_mean'] for i in no_pr_res]\n",
    ").mean()\n",
    "no_pr_total_images = np.array(\n",
    "    [i['total_test_images'] for i in no_pr_res]\n",
    ").mean()\n",
    "\n",
    "no_pr_accuracy = np.round(no_pr_predicted / no_pr_total_images * 100, 3)\n",
    "no_pr_miss_rate = np.round(no_pr_miss / no_pr_predicted * 100, 3)\n",
    "no_pr_epsilon = np.round(no_pr_epsilon, 3)\n",
    "print(f'EffNet with no pretext task -> accuracy = {no_pr_accuracy}%, '\n",
    "      f'miss rate = {no_pr_miss_rate}%, epsilon mean = {no_pr_epsilon}')"
   ],
   "metadata": {
    "collapsed": false,
    "pycharm": {
     "name": "#%%\n"
    }
   }
  },
  {
   "cell_type": "code",
   "execution_count": 117,
   "outputs": [
    {
     "name": "stderr",
     "output_type": "stream",
     "text": [
      "/var/folders/vv/f22t8y7d1l96ynv9mzgy0j5w0000gn/T/ipykernel_62139/2955787819.py:37: FutureWarning: In future versions `DataFrame.to_latex` is expected to utilise the base implementation of `Styler.to_latex` for formatting and rendering. The arguments signature may therefore change. It is recommended instead to use `DataFrame.style.to_latex` which also contains additional functionality.\n",
      "  jigsaw_df.to_latex('tables/jigsaw.tex')\n"
     ]
    },
    {
     "data": {
      "text/plain": "   pretext epochs  accuracy %  miss classification rate  epsilon mean\n0              25      43.984                    95.915         0.012\n1              50      43.438                    97.482         0.011\n2              75      43.281                    93.141         0.013\n3             100      42.188                    95.000         0.012",
      "text/html": "<div>\n<style scoped>\n    .dataframe tbody tr th:only-of-type {\n        vertical-align: middle;\n    }\n\n    .dataframe tbody tr th {\n        vertical-align: top;\n    }\n\n    .dataframe thead th {\n        text-align: right;\n    }\n</style>\n<table border=\"1\" class=\"dataframe\">\n  <thead>\n    <tr style=\"text-align: right;\">\n      <th></th>\n      <th>pretext epochs</th>\n      <th>accuracy %</th>\n      <th>miss classification rate</th>\n      <th>epsilon mean</th>\n    </tr>\n  </thead>\n  <tbody>\n    <tr>\n      <th>0</th>\n      <td>25</td>\n      <td>43.984</td>\n      <td>95.915</td>\n      <td>0.012</td>\n    </tr>\n    <tr>\n      <th>1</th>\n      <td>50</td>\n      <td>43.438</td>\n      <td>97.482</td>\n      <td>0.011</td>\n    </tr>\n    <tr>\n      <th>2</th>\n      <td>75</td>\n      <td>43.281</td>\n      <td>93.141</td>\n      <td>0.013</td>\n    </tr>\n    <tr>\n      <th>3</th>\n      <td>100</td>\n      <td>42.188</td>\n      <td>95.000</td>\n      <td>0.012</td>\n    </tr>\n  </tbody>\n</table>\n</div>"
     },
     "execution_count": 117,
     "metadata": {},
     "output_type": "execute_result"
    }
   ],
   "source": [
    "PR_EPOCHS = [25, 50, 75, 100]\n",
    "\n",
    "jigsaw_predicted = []\n",
    "jigsaw_miss = []\n",
    "jigsaw_epsilon = []\n",
    "jigsaw_total_images = []\n",
    "\n",
    "for pe in PR_EPOCHS:\n",
    "    jigsaw_res = [i for i in res_db.find({\n",
    "        'model_type': 'efficientnetb0',\n",
    "        'pretext_task': 'jigsaw',\n",
    "        'pretext_epochs': pe\n",
    "    })]\n",
    "\n",
    "    jigsaw_predicted.append(np.array(\n",
    "        [i['predicted'] for i in jigsaw_res]\n",
    "    ).mean())\n",
    "    jigsaw_miss.append(np.array(\n",
    "        [i['miss_classified'] for i in jigsaw_res]\n",
    "    ).mean())\n",
    "    jigsaw_epsilon.append(np.array(\n",
    "        [i['epsilon_mean'] for i in jigsaw_res]\n",
    "    ).mean())\n",
    "    jigsaw_total_images.append(np.array(\n",
    "        [i['total_test_images'] for i in jigsaw_res]\n",
    "    ).mean())\n",
    "\n",
    "jigsaw_accuracy = np.round(np.array(jigsaw_predicted) / np.array(jigsaw_total_images) * 100, 3)\n",
    "jigsaw_miss_rate = np.round(np.array(jigsaw_miss) / np.array(jigsaw_predicted) * 100, 3)\n",
    "jigsaw_epsilon = np.round(jigsaw_epsilon, 3)\n",
    "\n",
    "jigsaw_df = pd.DataFrame()\n",
    "jigsaw_df['pretext epochs'] = PR_EPOCHS\n",
    "jigsaw_df['accuracy %'] = jigsaw_accuracy\n",
    "jigsaw_df['miss classification rate'] = jigsaw_miss_rate\n",
    "jigsaw_df['epsilon mean'] = jigsaw_epsilon\n",
    "jigsaw_df.to_latex('tables/jigsaw.tex')\n",
    "jigsaw_df"
   ],
   "metadata": {
    "collapsed": false,
    "pycharm": {
     "name": "#%%\n"
    }
   }
  },
  {
   "cell_type": "code",
   "execution_count": 118,
   "outputs": [
    {
     "name": "stderr",
     "output_type": "stream",
     "text": [
      "/var/folders/vv/f22t8y7d1l96ynv9mzgy0j5w0000gn/T/ipykernel_62139/4231545544.py:35: FutureWarning: In future versions `DataFrame.to_latex` is expected to utilise the base implementation of `Styler.to_latex` for formatting and rendering. The arguments signature may therefore change. It is recommended instead to use `DataFrame.style.to_latex` which also contains additional functionality.\n",
      "  rotation_df.to_latex('tables/rotation.tex')\n"
     ]
    },
    {
     "data": {
      "text/plain": "   pretext epochs  accuracy %  miss classification rate  epsilon mean\n0              25      44.219                    96.643         0.012\n1              50      44.141                    97.876         0.012\n2              75      46.953                    95.674         0.012\n3             100      44.531                    97.544         0.012",
      "text/html": "<div>\n<style scoped>\n    .dataframe tbody tr th:only-of-type {\n        vertical-align: middle;\n    }\n\n    .dataframe tbody tr th {\n        vertical-align: top;\n    }\n\n    .dataframe thead th {\n        text-align: right;\n    }\n</style>\n<table border=\"1\" class=\"dataframe\">\n  <thead>\n    <tr style=\"text-align: right;\">\n      <th></th>\n      <th>pretext epochs</th>\n      <th>accuracy %</th>\n      <th>miss classification rate</th>\n      <th>epsilon mean</th>\n    </tr>\n  </thead>\n  <tbody>\n    <tr>\n      <th>0</th>\n      <td>25</td>\n      <td>44.219</td>\n      <td>96.643</td>\n      <td>0.012</td>\n    </tr>\n    <tr>\n      <th>1</th>\n      <td>50</td>\n      <td>44.141</td>\n      <td>97.876</td>\n      <td>0.012</td>\n    </tr>\n    <tr>\n      <th>2</th>\n      <td>75</td>\n      <td>46.953</td>\n      <td>95.674</td>\n      <td>0.012</td>\n    </tr>\n    <tr>\n      <th>3</th>\n      <td>100</td>\n      <td>44.531</td>\n      <td>97.544</td>\n      <td>0.012</td>\n    </tr>\n  </tbody>\n</table>\n</div>"
     },
     "execution_count": 118,
     "metadata": {},
     "output_type": "execute_result"
    }
   ],
   "source": [
    "rotation_predicted = []\n",
    "rotation_miss = []\n",
    "rotation_epsilon = []\n",
    "rotation_total_images = []\n",
    "\n",
    "for pe in PR_EPOCHS:\n",
    "    rotation_res = [i for i in res_db.find({\n",
    "        'model_type': 'efficientnetb0',\n",
    "        'pretext_task': 'rotation',\n",
    "        'pretext_epochs': pe\n",
    "    })]\n",
    "\n",
    "    rotation_predicted.append(np.array(\n",
    "        [i['predicted'] for i in rotation_res]\n",
    "    ).mean())\n",
    "    rotation_miss.append(np.array(\n",
    "        [i['miss_classified'] for i in rotation_res]\n",
    "    ).mean())\n",
    "    rotation_epsilon.append(np.array(\n",
    "        [i['epsilon_mean'] for i in rotation_res]\n",
    "    ).mean())\n",
    "    rotation_total_images.append(np.array(\n",
    "        [i['total_test_images'] for i in rotation_res]\n",
    "    ).mean())\n",
    "\n",
    "rotation_accuracy = np.round(np.array(rotation_predicted) / np.array(rotation_total_images) * 100, 3)\n",
    "rotation_miss_rate = np.round(np.array(rotation_miss) / np.array(rotation_predicted) * 100, 3)\n",
    "rotation_epsilon = np.round(rotation_epsilon, 3)\n",
    "\n",
    "rotation_df = pd.DataFrame()\n",
    "rotation_df['pretext epochs'] = PR_EPOCHS\n",
    "rotation_df['accuracy %'] = rotation_accuracy\n",
    "rotation_df['miss classification rate'] = rotation_miss_rate\n",
    "rotation_df['epsilon mean'] = rotation_epsilon\n",
    "rotation_df.to_latex('tables/rotation.tex')\n",
    "rotation_df"
   ],
   "metadata": {
    "collapsed": false,
    "pycharm": {
     "name": "#%%\n"
    }
   }
  },
  {
   "cell_type": "code",
   "execution_count": 119,
   "outputs": [
    {
     "name": "stderr",
     "output_type": "stream",
     "text": [
      "/var/folders/vv/f22t8y7d1l96ynv9mzgy0j5w0000gn/T/ipykernel_62139/1821283430.py:21: FutureWarning: In future versions `DataFrame.to_latex` is expected to utilise the base implementation of `Styler.to_latex` for formatting and rendering. The arguments signature may therefore change. It is recommended instead to use `DataFrame.style.to_latex` which also contains additional functionality.\n",
      "  best_res_df.to_latex('tables/best_res.tex')\n"
     ]
    },
    {
     "data": {
      "text/plain": "  pre-text task / pre-training  accuracy %  miss rate %  epsilon\n0                     ImageNet      65.156       94.245    0.024\n1                         None      39.922       99.413    0.011\n2                     rotation      46.953       95.674    0.012\n3                       jigsaw      43.984       93.141    0.013",
      "text/html": "<div>\n<style scoped>\n    .dataframe tbody tr th:only-of-type {\n        vertical-align: middle;\n    }\n\n    .dataframe tbody tr th {\n        vertical-align: top;\n    }\n\n    .dataframe thead th {\n        text-align: right;\n    }\n</style>\n<table border=\"1\" class=\"dataframe\">\n  <thead>\n    <tr style=\"text-align: right;\">\n      <th></th>\n      <th>pre-text task / pre-training</th>\n      <th>accuracy %</th>\n      <th>miss rate %</th>\n      <th>epsilon</th>\n    </tr>\n  </thead>\n  <tbody>\n    <tr>\n      <th>0</th>\n      <td>ImageNet</td>\n      <td>65.156</td>\n      <td>94.245</td>\n      <td>0.024</td>\n    </tr>\n    <tr>\n      <th>1</th>\n      <td>None</td>\n      <td>39.922</td>\n      <td>99.413</td>\n      <td>0.011</td>\n    </tr>\n    <tr>\n      <th>2</th>\n      <td>rotation</td>\n      <td>46.953</td>\n      <td>95.674</td>\n      <td>0.012</td>\n    </tr>\n    <tr>\n      <th>3</th>\n      <td>jigsaw</td>\n      <td>43.984</td>\n      <td>93.141</td>\n      <td>0.013</td>\n    </tr>\n  </tbody>\n</table>\n</div>"
     },
     "execution_count": 119,
     "metadata": {},
     "output_type": "execute_result"
    }
   ],
   "source": [
    "best_res_df = pd.DataFrame()\n",
    "best_res_df['pre-text task / pre-training'] = ['ImageNet', 'None', 'rotation', 'jigsaw']\n",
    "best_res_df['accuracy %'] = [\n",
    "    transfer_accuracy,\n",
    "    no_pr_accuracy,\n",
    "    rotation_accuracy.max(),\n",
    "    jigsaw_accuracy.max()\n",
    "]\n",
    "best_res_df['miss rate %'] = [\n",
    "    transfer_miss_rate,\n",
    "    no_pr_miss_rate,\n",
    "    rotation_miss_rate.min(),\n",
    "    jigsaw_miss_rate.min()\n",
    "]\n",
    "best_res_df['epsilon'] = [\n",
    "    transfer_epsilon,\n",
    "    no_pr_epsilon,\n",
    "    rotation_epsilon.max(),\n",
    "    jigsaw_epsilon.max()\n",
    "]\n",
    "best_res_df.to_latex('tables/best_res.tex')\n",
    "best_res_df"
   ],
   "metadata": {
    "collapsed": false,
    "pycharm": {
     "name": "#%%\n"
    }
   }
  },
  {
   "cell_type": "code",
   "execution_count": 126,
   "outputs": [
    {
     "data": {
      "text/plain": "<Figure size 432x288 with 1 Axes>",
      "image/png": "[encoded data removed]"
     },
     "metadata": {
      "needs_background": "light"
     },
     "output_type": "display_data"
    }
   ],
   "source": [
    "fig, ax = plt.subplots()\n",
    "plt.plot(PR_EPOCHS, jigsaw_accuracy, marker='o')\n",
    "plt.plot(PR_EPOCHS, rotation_accuracy, marker='o')\n",
    "plt.axhline(y=transfer_accuracy, color='g', linestyle='-')\n",
    "plt.axhline(y=no_pr_accuracy, color='r', linestyle='-')\n",
    "\n",
    "\n",
    "# Add some text for labels, title and custom x-axis tick labels, etc.\n",
    "ax.set_ylabel('Accuracy %')\n",
    "ax.set_xlabel('# pretext epochs')\n",
    "ax.set_xticks(PR_EPOCHS)\n",
    "ax.set_xticklabels(PR_EPOCHS)\n",
    "ax.legend(['jigsaw', 'rotation', 'transfer learning', 'no pretext'])\n",
    "fig.tight_layout()\n",
    "plt.savefig('plots/acc.png')"
   ],
   "metadata": {
    "collapsed": false,
    "pycharm": {
     "name": "#%%\n"
    }
   }
  },
  {
   "cell_type": "code",
   "execution_count": 127,
   "outputs": [
    {
     "data": {
      "text/plain": "<Figure size 432x288 with 1 Axes>",
      "image/png": "[encoded data removed]"
     },
     "metadata": {
      "needs_background": "light"
     },
     "output_type": "display_data"
    }
   ],
   "source": [
    "fig2, ax2 = plt.subplots()\n",
    "plt.plot(PR_EPOCHS, jigsaw_miss_rate, marker='o')\n",
    "plt.plot(PR_EPOCHS, rotation_miss_rate, marker='o')\n",
    "plt.axhline(y=transfer_miss_rate, color='g', linestyle='-')\n",
    "plt.axhline(y=no_pr_miss_rate, color='r', linestyle='-')\n",
    "\n",
    "# Add some text for labels, title and custom x-axis tick labels, etc.\n",
    "ax2.set_ylabel('miss-classification rate %')\n",
    "ax2.set_xlabel('# pretext epochs')\n",
    "ax2.set_xticks(PR_EPOCHS)\n",
    "ax2.set_xticklabels(PR_EPOCHS)\n",
    "ax2.legend(['jigsaw', 'rotation', 'transfer learning', 'no pretext'])\n",
    "fig2.tight_layout()\n",
    "plt.savefig('plots/miss_rate.png')"
   ],
   "metadata": {
    "collapsed": false,
    "pycharm": {
     "name": "#%%\n"
    }
   }
  },
  {
   "cell_type": "code",
   "execution_count": 128,
   "outputs": [
    {
     "data": {
      "text/plain": "<Figure size 432x288 with 1 Axes>",
      "image/png": "[encoded data removed]"
     },
     "metadata": {
      "needs_background": "light"
     },
     "output_type": "display_data"
    }
   ],
   "source": [
    "fig1, ax1 = plt.subplots()\n",
    "plt.plot(PR_EPOCHS, jigsaw_epsilon, marker='o')\n",
    "plt.plot(PR_EPOCHS, rotation_epsilon, marker='o')\n",
    "plt.axhline(y=transfer_epsilon, color='g', linestyle='-')\n",
    "plt.axhline(y=no_pr_epsilon, color='r', linestyle='-')\n",
    "\n",
    "\n",
    "# Add some text for labels, title and custom x-axis tick labels, etc.\n",
    "ax1.set_ylabel('$\\overline{\\epsilon}$')\n",
    "ax1.set_xlabel('# pretext epochs')\n",
    "ax1.set_xticks(PR_EPOCHS)\n",
    "ax1.set_xticklabels(PR_EPOCHS)\n",
    "ax1.legend(['jigsaw', 'rotation', 'transfer learning', 'no pretext'])\n",
    "fig1.tight_layout()\n",
    "plt.savefig('plots/epsilon.png')"
   ],
   "metadata": {
    "collapsed": false,
    "pycharm": {
     "name": "#%%\n"
    }
   }
  },
  {
   "cell_type": "code",
   "execution_count": null,
   "outputs": [],
   "source": [],
   "metadata": {
    "collapsed": false,
    "pycharm": {
     "name": "#%%\n"
    }
   }
  }
 ],
 "metadata": {
  "kernelspec": {
   "display_name": "Python 3",
   "language": "python",
   "name": "python3"
  },
  "language_info": {
   "codemirror_mode": {
    "name": "ipython",
    "version": 2
   },
   "file_extension": ".py",
   "mimetype": "text/x-python",
   "name": "python",
   "nbconvert_exporter": "python",
   "pygments_lexer": "ipython2",
   "version": "2.7.6"
  }
 },
 "nbformat": 4,
 "nbformat_minor": 0
}