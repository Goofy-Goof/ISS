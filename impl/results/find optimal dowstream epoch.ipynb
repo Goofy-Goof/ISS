{
 "cells": [
  {
   "cell_type": "code",
   "execution_count": 5,
   "outputs": [
    {
     "data": {
      "text/plain": "True"
     },
     "execution_count": 5,
     "metadata": {},
     "output_type": "execute_result"
    }
   ],
   "source": [
    "from dotenv import load_dotenv\n",
    "\n",
    "load_dotenv()\n",
    "# OR, the same with increased verbosity\n",
    "load_dotenv(verbose=True)\n",
    "# OR, explicitly providing path to '.env'\n",
    "from pathlib import Path  # Python 3.6+ only\n",
    "env_path = Path('../') / '.env'\n",
    "load_dotenv(dotenv_path=env_path)"
   ],
   "metadata": {
    "collapsed": false,
    "pycharm": {
     "name": "#%%\n"
    }
   }
  },
  {
   "cell_type": "code",
   "execution_count": 6,
   "outputs": [],
   "source": [
    "from pymongo import MongoClient\n",
    "import numpy as np\n",
    "import pandas as pd\n",
    "import os\n",
    "\n",
    "\n",
    "mongo_uri = os.environ['MONGO_URI']\n",
    "db = MongoClient(mongo_uri).iss.down_epochs_res"
   ],
   "metadata": {
    "collapsed": false,
    "pycharm": {
     "name": "#%%\n"
    }
   }
  },
  {
   "cell_type": "code",
   "execution_count": 17,
   "outputs": [
    {
     "data": {
      "text/plain": "   epochs  acc mean %\n0      20   22.031250\n1      30   37.421875\n2      40   41.015625\n3      50   44.531250\n4     100   41.406250",
      "text/html": "<div>\n<style scoped>\n    .dataframe tbody tr th:only-of-type {\n        vertical-align: middle;\n    }\n\n    .dataframe tbody tr th {\n        vertical-align: top;\n    }\n\n    .dataframe thead th {\n        text-align: right;\n    }\n</style>\n<table border=\"1\" class=\"dataframe\">\n  <thead>\n    <tr style=\"text-align: right;\">\n      <th></th>\n      <th>epochs</th>\n      <th>acc mean %</th>\n    </tr>\n  </thead>\n  <tbody>\n    <tr>\n      <th>0</th>\n      <td>20</td>\n      <td>22.031250</td>\n    </tr>\n    <tr>\n      <th>1</th>\n      <td>30</td>\n      <td>37.421875</td>\n    </tr>\n    <tr>\n      <th>2</th>\n      <td>40</td>\n      <td>41.015625</td>\n    </tr>\n    <tr>\n      <th>3</th>\n      <td>50</td>\n      <td>44.531250</td>\n    </tr>\n    <tr>\n      <th>4</th>\n      <td>100</td>\n      <td>41.406250</td>\n    </tr>\n  </tbody>\n</table>\n</div>"
     },
     "execution_count": 17,
     "metadata": {},
     "output_type": "execute_result"
    }
   ],
   "source": [
    "epochs = [20, 30, 40, 50, 100]\n",
    "\n",
    "acc = [\n",
    "    [j['predicted'] for j in db.find({'downstream_epochs': i}, {'predicted': 1})] for i in epochs\n",
    "]\n",
    "\n",
    "acc = np.array(acc)\n",
    "acc_mean = np.mean(acc, axis=1)\n",
    "\n",
    "df = pd.DataFrame()\n",
    "df['epochs'] = epochs\n",
    "df['acc mean %'] = acc_mean / 256 * 100 #total test images\n",
    "df.head()"
   ],
   "metadata": {
    "collapsed": false,
    "pycharm": {
     "name": "#%%\n"
    }
   }
  },
  {
   "cell_type": "code",
   "execution_count": 9,
   "outputs": [],
   "source": [],
   "metadata": {
    "collapsed": false,
    "pycharm": {
     "name": "#%%\n"
    }
   }
  }
 ],
 "metadata": {
  "kernelspec": {
   "display_name": "Python 3",
   "language": "python",
   "name": "python3"
  },
  "language_info": {
   "codemirror_mode": {
    "name": "ipython",
    "version": 2
   },
   "file_extension": ".py",
   "mimetype": "text/x-python",
   "name": "python",
   "nbconvert_exporter": "python",
   "pygments_lexer": "ipython2",
   "version": "2.7.6"
  }
 },
 "nbformat": 4,
 "nbformat_minor": 0
}