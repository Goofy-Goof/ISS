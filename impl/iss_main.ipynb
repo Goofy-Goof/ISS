{
 "cells": [
  {
   "cell_type": "code",
   "execution_count": null,
   "metadata": {
    "id": "gyrYD9d0zSdP"
   },
   "outputs": [],
   "source": [
    "from google.colab import auth\n",
    "auth.authenticate_user()"
   ]
  },
  {
   "cell_type": "markdown",
   "source": [
    "### Let's import some modules and download data"
   ],
   "metadata": {
    "collapsed": false
   }
  },
  {
   "cell_type": "code",
   "execution_count": null,
   "outputs": [],
   "source": [
    "import logging\n",
    "import tensorflow as tf\n",
    "import tensorflow_datasets as tfds\n",
    "\n",
    "from util.dataset import create_flowers_ds\n",
    "from util.models import create_eff_net_trainable, create_eff_net_pre_trained\n",
    "from util.utils import prediction_round\n",
    "from util.adversarial import adversarial_round\n",
    "from util.pretext import RotationPretextTrainer, JigsawPretextTrainer\n",
    "from util.tpu import init_tpu, TpuStub\n",
    "from util.evaluation import eval_round\n",
    "from util.config import batch_size\n",
    "\n",
    "logging.basicConfig(format='%(funcName)s()->%(levelname)s: %(message)s', level=logging.INFO)\n",
    "tf.get_logger().setLevel('ERROR')\n",
    "log = logging.getLogger(__name__)\n",
    "log.info(f'Tensorflow version: {tf.__version__}')\n",
    "log.info(f'Tensorflow datasets version: {tfds.__version__}')"
   ],
   "metadata": {
    "collapsed": false,
    "pycharm": {
     "name": "#%%\n",
     "is_executing": true
    }
   }
  },
  {
   "cell_type": "markdown",
   "source": [
    "### Configure hardware acceleration"
   ],
   "metadata": {
    "collapsed": false
   }
  },
  {
   "cell_type": "code",
   "execution_count": null,
   "outputs": [],
   "source": [
    "#device_strategy = init_tpu()\n",
    "device_strategy = CpuStub()"
   ],
   "metadata": {
    "collapsed": false,
    "pycharm": {
     "name": "#%%\n"
    }
   }
  },
  {
   "cell_type": "markdown",
   "source": [
    "### Let's create datasets"
   ],
   "metadata": {
    "collapsed": false,
    "pycharm": {
     "name": "#%% md\n"
    }
   }
  },
  {
   "cell_type": "code",
   "execution_count": null,
   "outputs": [],
   "source": [
    "ds = Dataset(ds_names[0])"
   ],
   "metadata": {
    "collapsed": false,
    "pycharm": {
     "name": "#%%\n"
    }
   }
  },
  {
   "cell_type": "markdown",
   "source": [
    "### Let's create model"
   ],
   "metadata": {
    "collapsed": false
   }
  },
  {
   "cell_type": "code",
   "execution_count": null,
   "metadata": {
    "colab": {
     "base_uri": "https://localhost:8080/"
    },
    "id": "T6c4vVkZn9E9",
    "outputId": "caf59fcb-abfd-4cf5-b35c-0bd105ae96ca"
   },
   "outputs": [],
   "source": [
    "M_UT = create_basic_model(num_classes=ds.num_classes, device_strategy=device_strategy)"
   ]
  },
  {
   "cell_type": "code",
   "execution_count": null,
   "outputs": [],
   "source": [
    "M_UT.summary()"
   ],
   "metadata": {
    "collapsed": false,
    "pycharm": {
     "name": "#%%\n"
    }
   }
  },
  {
   "cell_type": "markdown",
   "metadata": {
    "collapsed": false,
    "id": "Q4gS_5Sr7RhR"
   },
   "source": [
    "### Verify that nothing is broken during downstream training"
   ]
  },
  {
   "cell_type": "code",
   "execution_count": null,
   "metadata": {
    "colab": {
     "base_uri": "https://localhost:8080/"
    },
    "id": "LnS7X4VD7RhS",
    "outputId": "f006b6c7-d0ef-4bba-9a8a-cb71577cc71a"
   },
   "outputs": [],
   "source": [
    "log.info(f'Training {M_UT.name}')\n",
    "M_UT.fit(ds.train, validation_data=ds.val)"
   ]
  },
  {
   "cell_type": "markdown",
   "metadata": {
    "id": "7-WmWq357RhS"
   },
   "source": [
    "### Test how good Model can predict"
   ]
  },
  {
   "cell_type": "code",
   "execution_count": null,
   "metadata": {
    "id": "Qb_r0X_w7RhT"
   },
   "outputs": [],
   "source": [
    "result_imgs, result_labels = prediction_round(dataset=ds, model=M_UT)\n",
    "log.info(f'Out of {len(ds.test) * batch_size} images {len(result_labels)} were correctly classified')"
   ]
  },
  {
   "cell_type": "markdown",
   "metadata": {
    "collapsed": false,
    "id": "X5M8kBIb7RhT"
   },
   "source": [
    "### Now let's try to fool our network"
   ]
  },
  {
   "cell_type": "code",
   "execution_count": null,
   "metadata": {
    "colab": {
     "base_uri": "https://localhost:8080/"
    },
    "id": "6-JVAlbxxCjj",
    "outputId": "6e8d829a-d797-449e-d3a6-7ca7ce7e7c93"
   },
   "outputs": [],
   "source": [
    "sf = adversarial_round(images=result_imgs, labels=result_labels, model=M_UT)\n",
    "log.info(f'{len(sf)} out of {len(result_labels)} were missclassified with mean of {sf.mean()}')"
   ]
  },
  {
   "cell_type": "markdown",
   "metadata": {
    "collapsed": false,
    "id": "HyO7JGU-7RhV"
   },
   "source": [
    "### Train to identify rotation"
   ]
  },
  {
   "cell_type": "code",
   "execution_count": null,
   "metadata": {
    "id": "Iky-1a74nQFM"
   },
   "outputs": [],
   "source": [
    "rotationTrainer = RotationPretextTrainer()\n",
    "M_UT = rotationTrainer.train_pretrext_task(dataset=ds, model=M_UT, device_strategy=device_strategy, epochs=1)"
   ]
  },
  {
   "cell_type": "markdown",
   "source": [
    "### Jigsaw pretext trainining"
   ],
   "metadata": {
    "collapsed": false
   }
  },
  {
   "cell_type": "code",
   "execution_count": null,
   "outputs": [],
   "source": [
    "jigsawTrainer = JigsawPretextTrainer()\n",
    "jigsawTrainer.train_pretrext_task(dataset=ds, model=M_UT, device_strategy=device_strategy, epochs=1)"
   ],
   "metadata": {
    "collapsed": false,
    "pycharm": {
     "name": "#%%\n"
    }
   }
  },
  {
   "cell_type": "markdown",
   "metadata": {
    "collapsed": false,
    "id": "C1cah9cPxCjm"
   },
   "source": [
    "### Let's evaluate our (hopefully) successes"
   ]
  },
  {
   "cell_type": "code",
   "execution_count": null,
   "outputs": [],
   "source": [
    "pretext_tasks = [\n",
    "                 [RotationPretextTrainer()],\n",
    "                 [JigsawPretextTrainer()],\n",
    "                 [RotationPretextTrainer(), JigsawPretextTrainer()]\n",
    "]\n",
    "\n",
    "epochs = [\n",
    "          (10, 10),\n",
    "          (10, 20),\n",
    "          (10, 30),\n",
    "          (10, 50),\n",
    "\n",
    "          (20, 10),\n",
    "          (20, 20),\n",
    "          (20, 30),\n",
    "          (20, 50),\n",
    "\n",
    "          (30, 10),\n",
    "          (30, 20),\n",
    "          (30, 30),\n",
    "          (30, 50),\n",
    "\n",
    "          (50, 10),\n",
    "          (50, 20),\n",
    "          (50, 30),\n",
    "          (50, 50)\n",
    "]\n",
    "\n",
    "models = [\n",
    "          create_basic_model,\n",
    "          create_eff_net_frozen,\n",
    "          create_eff_net_trainable,\n",
    "]\n",
    "M = models[2]\n",
    "\n",
    "log.info(f'Collecting data for {ds.name}')\n",
    "for ep in epochs:\n",
    "    for pt in pretext_tasks:\n",
    "        eval_round(model_constr=M, dataset=ds, pretext_trainers=pt, device_strategy=device_strategy,\n",
    "                   downstream_epochs=ep[0], pretext_epochs=ep[1])"
   ],
   "metadata": {
    "collapsed": false,
    "pycharm": {
     "name": "#%%\n"
    }
   }
  },
  {
   "cell_type": "raw",
   "source": [
    "run evaluation without pretext only once"
   ],
   "metadata": {
    "collapsed": false
   }
  },
  {
   "cell_type": "code",
   "execution_count": null,
   "outputs": [],
   "source": [
    "downstream_epochs = [10, 20, 30, 50]\n",
    "for m in models:\n",
    "    for i in downstream_epochs:\n",
    "        eval_round(model_constr=m, dataset=ds, pretext_trainers=[], device_strategy=device_strategy,\n",
    "                   downstream_epochs=i, pretext_epochs=0)"
   ],
   "metadata": {
    "collapsed": false,
    "pycharm": {
     "name": "#%%\n"
    }
   }
  }
 ],
 "metadata": {
  "accelerator": "TPU",
  "colab": {
   "collapsed_sections": [],
   "machine_shape": "hm",
   "name": "main.ipynb",
   "provenance": []
  },
  "kernelspec": {
   "display_name": "Python 3 (ipykernel)",
   "language": "python",
   "name": "python3"
  },
  "language_info": {
   "codemirror_mode": {
    "name": "ipython",
    "version": 3
   },
   "file_extension": ".py",
   "mimetype": "text/x-python",
   "name": "python",
   "nbconvert_exporter": "python",
   "pygments_lexer": "ipython3",
   "version": "3.9.9"
  }
 },
 "nbformat": 4,
 "nbformat_minor": 0
}