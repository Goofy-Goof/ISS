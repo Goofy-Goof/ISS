{
 "cells": [
  {
   "cell_type": "code",
   "execution_count": null,
   "outputs": [],
   "source": [
    "from pymongo import MongoClient\n",
    "from results import get_acc_and_miss, plot, get_baseline"
   ],
   "metadata": {
    "collapsed": false,
    "pycharm": {
     "name": "#%%\n"
    }
   }
  },
  {
   "cell_type": "code",
   "execution_count": null,
   "outputs": [],
   "source": [
    "RO_MONGO_URI = 'x'\n",
    "mongo_cluster = MongoClient(RO_MONGO_URI).iss\n",
    "res_db = mongo_cluster.results5"
   ],
   "metadata": {
    "collapsed": false,
    "pycharm": {
     "name": "#%%\n"
    }
   }
  },
  {
   "cell_type": "code",
   "execution_count": null,
   "outputs": [],
   "source": [
    "PR_EPOCHS = [15, 30, 45, 60]"
   ],
   "metadata": {
    "collapsed": false,
    "pycharm": {
     "name": "#%%\n"
    }
   }
  },
  {
   "cell_type": "markdown",
   "source": [
    "### Results + Visualization"
   ],
   "metadata": {
    "collapsed": false,
    "pycharm": {
     "name": "#%% md\n"
    }
   }
  },
  {
   "cell_type": "code",
   "execution_count": null,
   "outputs": [],
   "source": [
    "no_pr_accuracy, no_pr_miss_rate = get_baseline(res_db)\n",
    "jigsaw_acc, jigsaw_miss =     get_acc_and_miss(res_db=res_db, task='jigsaw', pr_epochs=PR_EPOCHS)\n",
    "rotation_acc, rotation_miss = get_acc_and_miss(res_db=res_db, task='rotation', pr_epochs=PR_EPOCHS)\n",
    "transfer_acc, transfer_miss = get_acc_and_miss(res_db=res_db, task='transfer-learning', pr_epochs=PR_EPOCHS)"
   ],
   "metadata": {
    "collapsed": false,
    "pycharm": {
     "name": "#%%\n"
    }
   }
  },
  {
   "cell_type": "code",
   "execution_count": null,
   "outputs": [],
   "source": [
    "plot(jigsaw=jigsaw_acc, rotation=rotation_acc, transfer=transfer_acc, baseline=no_pr_accuracy,\n",
    "     pr_epochs=PR_EPOCHS, y_label='Accuracy, %', file_name='acc.png')"
   ],
   "metadata": {
    "collapsed": false,
    "pycharm": {
     "name": "#%%\n"
    }
   }
  },
  {
   "cell_type": "code",
   "execution_count": null,
   "outputs": [],
   "source": [
    "plot(jigsaw=jigsaw_miss, rotation=rotation_miss, transfer=transfer_miss, baseline=no_pr_miss_rate,\n",
    "     pr_epochs=PR_EPOCHS, y_label='Miss rate, %', file_name='miss.png')\n"
   ],
   "metadata": {
    "collapsed": false,
    "pycharm": {
     "name": "#%%\n"
    }
   }
  }
 ],
 "metadata": {
  "kernelspec": {
   "display_name": "Python 3",
   "language": "python",
   "name": "python3"
  },
  "language_info": {
   "codemirror_mode": {
    "name": "ipython",
    "version": 2
   },
   "file_extension": ".py",
   "mimetype": "text/x-python",
   "name": "python",
   "nbconvert_exporter": "python",
   "pygments_lexer": "ipython2",
   "version": "2.7.6"
  }
 },
 "nbformat": 4,
 "nbformat_minor": 0
}